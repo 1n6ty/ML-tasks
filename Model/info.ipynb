{
 "cells": [
  {
   "cell_type": "markdown",
   "metadata": {},
   "source": [
    "# Data Mining and Visualization "
   ]
  },
  {
   "cell_type": "code",
   "execution_count": null,
   "metadata": {},
   "outputs": [],
   "source": [
    "# Import\n",
    "import h5py\n",
    "import numpy as np\n",
    "import pandas as pd\n",
    "import matplotlib.pyplot as plt\n",
    "import seaborn as sns\n",
    "import os"
   ]
  },
  {
   "cell_type": "code",
   "execution_count": null,
   "metadata": {},
   "outputs": [],
   "source": [
    "# Global Variables\n",
    "DATA_DIR = os.path.abspath('../Data')\n",
    "TRAIN_DIR = os.path.join(DATA_DIR, 'train')\n",
    "TRAIN_FILES_LIST = [os.path.join(TRAIN_DIR, i) for i in os.listdir(TRAIN_DIR)]\n",
    "\n",
    "NUM_OF_TIMESTAMPS = 50\n",
    "REP_2e6 = 0\n",
    "REP_1e6 = 0"
   ]
  },
  {
   "cell_type": "code",
   "execution_count": null,
   "metadata": {},
   "outputs": [],
   "source": [
    "# Preparing Data\n",
    "timestamp_to_file = {}\n",
    "for filename in TRAIN_FILES_LIST:\n",
    "    with h5py.File(filename) as d:\n",
    "        timestamp_to_file = {\n",
    "            **timestamp_to_file,\n",
    "            **dict(map(lambda x: (x, filename), d.keys()))\n",
    "        }\n",
    "\n",
    "timestamps = np.unique(sorted(timestamp_to_file.keys()))\n",
    "\n",
    "data_values = np.empty((22, 1))\n",
    "for timestamp in timestamps[:NUM_OF_TIMESTAMPS]:\n",
    "    with h5py.File(timestamp_to_file[timestamp]) as d:\n",
    "        buff = d[timestamp][\"intensity\"][:].reshape((1, 63504))\n",
    "        buff = np.append(buff, d[timestamp][\"events\"][:].reshape((1, 63504)), axis=0)\n",
    "        buff = np.append(buff, d[timestamp][\"radial_velocity\"][:].reshape((10, 63504)), axis=0)\n",
    "        buff = np.append(buff, d[timestamp][\"reflectivity\"][:].reshape((10, 63504)), axis=0)\n",
    "        \n",
    "        data_values = np.append(data_values, buff, axis=1)\n",
    "\n",
    "data_values = data_values[:, 1:]\n",
    "data_values[data_values == -2e6] = REP_2e6\n",
    "data_values[data_values == -1e6] = REP_1e6\n",
    "data_values = pd.DataFrame(data_values.T, columns=[\"intensity\", \"events\", *[f'radial_velocity_{i}' for i in range(10)], *[f'reflectivity_{i}' for i in range(10)]])\n",
    "\n",
    "data_sample = {\n",
    "    \"intensity\": None,\n",
    "    \"events\": None,\n",
    "    \"reflectivity\": None,\n",
    "    \"radial_velocity\": None\n",
    "}\n",
    "with h5py.File(timestamp_to_file[timestamps[0]]) as d:\n",
    "    data_sample[\"intensity\"] = d[timestamps[0]][\"intensity\"][:]\n",
    "    data_sample[\"events\"] = d[timestamps[0]][\"events\"][:]\n",
    "    data_sample[\"radial_velocity\"] = [d[timestamps[0]][\"radial_velocity\"][:][i] for i in range(10)]\n",
    "    data_sample[\"reflectivity\"] = [d[timestamps[0]][\"reflectivity\"][:][i] for i in range(10)]"
   ]
  },
  {
   "cell_type": "code",
   "execution_count": null,
   "metadata": {},
   "outputs": [],
   "source": [
    "# Basic Information\n",
    "print(timestamps.shape, '- timestamps shape')\n",
    "print(data_values.info())\n",
    "print(data_values.describe())"
   ]
  },
  {
   "cell_type": "code",
   "execution_count": null,
   "metadata": {},
   "outputs": [],
   "source": [
    "# Visualization\n",
    "# Samples\n",
    "fig_samples_single_row, ax_samples_single_row = plt.subplots(nrows=1, ncols=3)\n",
    "fig_samples_single_row.set_figwidth(20)\n",
    "\n",
    "# intensity\n",
    "ax_samples_single_row[0].set_title(\"intensity\")\n",
    "sns.heatmap(data_sample[\"intensity\"], ax=ax_samples_single_row[0])\n",
    "\n",
    "# events\n",
    "ax_samples_single_row[1].set_title(\"events\")\n",
    "sns.heatmap(data_sample[\"events\"], ax=ax_samples_single_row[1])\n",
    "\n",
    "# correlation\n",
    "ax_samples_single_row[2].set_title(\"correlation\")\n",
    "sns.heatmap(data_values.corr(), ax=ax_samples_single_row[2])\n",
    "\n",
    "fig_samples_mult_row, ax_samples_mult_row = plt.subplots(nrows=2, ncols=10)\n",
    "fig_samples_mult_row.set_figwidth(20)\n",
    "fig_samples_mult_row.set_figheight(3)\n",
    "fig_samples_mult_row.suptitle(\"radial_velocity and reflectivity\")\n",
    "\n",
    "# radial_velocity\n",
    "for i in range(10):\n",
    "    g = sns.heatmap(data_sample[\"radial_velocity\"][i], ax=ax_samples_mult_row[0][i])\n",
    "    g.set(xticklabels=[], yticklabels=[])\n",
    "\n",
    "# reflectivity\n",
    "for i in range(10):\n",
    "    g = sns.heatmap(data_sample[\"reflectivity\"][i], ax=ax_samples_mult_row[1][i])\n",
    "    g.set(xticklabels=[], yticklabels=[])\n",
    "\n",
    "# histograms\n",
    "fig_hist, ax_hist = plt.subplots(nrows=1, ncols=4)\n",
    "fig_hist.set_figwidth(20)\n",
    "\n",
    "# intensity\n",
    "ax_hist[0].set_title(\"intensity\")\n",
    "ax_hist[0].set_ylim(5e4)\n",
    "sns.histplot(data_values[\"intensity\"], ax=ax_hist[0])\n",
    "\n",
    "# events\n",
    "ax_hist[1].set_title(\"events\")\n",
    "ax_hist[1].set_ylim(4e5)\n",
    "sns.histplot(data_values[\"events\"], ax=ax_hist[1], binwidth=1)\n",
    "\n",
    "# radial_velocity\n",
    "ax_hist[2].set_title(\"radial_velocity\")\n",
    "ax_hist[2].set_ylim(4e5)\n",
    "sns.histplot(np.concatenate([data_values[f'radial_velocity_{i}'] for i in range(10)], axis=0), ax=ax_hist[2])\n",
    "\n",
    "# reflectivity\n",
    "ax_hist[3].set_title(\"reflectivity\")\n",
    "ax_hist[3].set_ylim(4e5)\n",
    "sns.histplot(np.concatenate([data_values[f'reflectivity_{i}'] for i in range(10)], axis=0), ax=ax_hist[3])"
   ]
  }
 ],
 "metadata": {
  "kernelspec": {
   "display_name": "Python 3",
   "language": "python",
   "name": "python3"
  },
  "language_info": {
   "codemirror_mode": {
    "name": "ipython",
    "version": 3
   },
   "file_extension": ".py",
   "mimetype": "text/x-python",
   "name": "python",
   "nbconvert_exporter": "python",
   "pygments_lexer": "ipython3",
   "version": "3.10.1"
  }
 },
 "nbformat": 4,
 "nbformat_minor": 2
}
