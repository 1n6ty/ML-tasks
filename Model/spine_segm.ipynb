{
 "cells": [
  {
   "cell_type": "markdown",
   "metadata": {},
   "source": [
    "# Spine Segmentation"
   ]
  },
  {
   "cell_type": "code",
   "execution_count": 1,
   "metadata": {},
   "outputs": [
    {
     "name": "stderr",
     "output_type": "stream",
     "text": [
      "2024-02-04 03:13:44.894021: I external/local_tsl/tsl/cuda/cudart_stub.cc:31] Could not find cuda drivers on your machine, GPU will not be used.\n",
      "2024-02-04 03:13:44.962332: E external/local_xla/xla/stream_executor/cuda/cuda_dnn.cc:9261] Unable to register cuDNN factory: Attempting to register factory for plugin cuDNN when one has already been registered\n",
      "2024-02-04 03:13:44.962408: E external/local_xla/xla/stream_executor/cuda/cuda_fft.cc:607] Unable to register cuFFT factory: Attempting to register factory for plugin cuFFT when one has already been registered\n",
      "2024-02-04 03:13:44.964327: E external/local_xla/xla/stream_executor/cuda/cuda_blas.cc:1515] Unable to register cuBLAS factory: Attempting to register factory for plugin cuBLAS when one has already been registered\n",
      "2024-02-04 03:13:44.975341: I external/local_tsl/tsl/cuda/cudart_stub.cc:31] Could not find cuda drivers on your machine, GPU will not be used.\n",
      "2024-02-04 03:13:44.976181: I tensorflow/core/platform/cpu_feature_guard.cc:182] This TensorFlow binary is optimized to use available CPU instructions in performance-critical operations.\n",
      "To enable the following instructions: AVX2 FMA, in other operations, rebuild TensorFlow with the appropriate compiler flags.\n",
      "2024-02-04 03:13:46.142236: W tensorflow/compiler/tf2tensorrt/utils/py_utils.cc:38] TF-TRT Warning: Could not find TensorRT\n"
     ]
    }
   ],
   "source": [
    "# import libs\n",
    "import numpy as np\n",
    "import matplotlib.pyplot as plt\n",
    "import seaborn as sns\n",
    "\n",
    "from random import randint\n",
    "import cv2\n",
    "import os\n",
    "import pydicom\n",
    "import json\n",
    "\n",
    "import tensorflow as tf\n",
    "from tensorflow import keras\n",
    "from keras.utils import Sequence\n",
    "from keras.callbacks import ModelCheckpoint"
   ]
  },
  {
   "cell_type": "code",
   "execution_count": 2,
   "metadata": {},
   "outputs": [],
   "source": [
    "# Init global variables\n",
    "DATA_DIR = os.path.abspath('../Data/spine-segmentation')\n",
    "with open(os.path.join(DATA_DIR, 'files_routes.json'), 'r') as f:\n",
    "    FILE_DIRS = json.loads(f.read())\n",
    "\n",
    "RESULTS = os.path.abspath('../Results')\n",
    "\n",
    "IMG_SHAPE = (576, 240)\n",
    "VALIDATION_NUM = 6\n",
    "BATCH_SIZE = 3\n",
    "\n",
    "WEIGHTS2LOAD = None #os.path.join(RESULTS, 'saved_weights/0-weights_unetpp.hdf5')"
   ]
  },
  {
   "cell_type": "markdown",
   "metadata": {},
   "source": [
    "## DataSet"
   ]
  },
  {
   "cell_type": "code",
   "execution_count": 3,
   "metadata": {},
   "outputs": [],
   "source": [
    "class Data_train_generator(Sequence):\n",
    "    def __init__(self, x_files_list: list, y_files_list: list, batch_size: int, new_image_size = None, shuffle = True) -> None:\n",
    "        self.data = x_files_list\n",
    "        self.labels = y_files_list\n",
    "        self.batch_size = batch_size\n",
    "\n",
    "        self.shuffle = shuffle\n",
    "        self.new_image_size = new_image_size\n",
    "\n",
    "    def __len__(self):\n",
    "        return int(np.ceil(len(self.data) / float(self.batch_size)))\n",
    "\n",
    "    def __open_png_y(self, file_path):\n",
    "        img = cv2.imread(file_path)\n",
    "        img = cv2.inRange(img, (20, 20, 210), (40, 40, 240))\n",
    "        \n",
    "        data = np.array(img, dtype=\"float32\") / 255\n",
    "\n",
    "        if self.new_image_size != None:\n",
    "            side_pad = (\n",
    "                int((self.new_image_size[0] - data.shape[0]) / 2),\n",
    "                int((self.new_image_size[1] - data.shape[1]) / 2)\n",
    "            )\n",
    "            data = np.pad(data, (\n",
    "                (side_pad[0], side_pad[0]),\n",
    "                (side_pad[1], side_pad[1]),\n",
    "            ), 'constant', constant_values=0)\n",
    "\n",
    "        return np.reshape(data, (*self.new_image_size, 1))\n",
    "\n",
    "    def __open_dcm_x(self, file_path):\n",
    "        dcm = pydicom.dcmread(file_path)\n",
    "\n",
    "        data = dcm.pixel_array.astype(\"float32\") / 255\n",
    "\n",
    "        if self.new_image_size != None:\n",
    "            side_pad = (\n",
    "                int((self.new_image_size[0] - data.shape[0]) / 2),\n",
    "                int((self.new_image_size[1] - data.shape[1]) / 2)\n",
    "            )\n",
    "            data = np.pad(data, (\n",
    "                (side_pad[0], side_pad[0]),\n",
    "                (side_pad[1], side_pad[1]),\n",
    "            ), 'constant', constant_values=0)\n",
    "\n",
    "        return np.reshape(data, (*self.new_image_size, 1))\n",
    "\n",
    "    def __getitem__(self, index):\n",
    "        batch_x = np.array(list(map(self.__open_dcm_x, self.data[index * self.batch_size: (index + 1) * self.batch_size])))\n",
    "        batch_y = np.array(list(map(self.__open_png_y, self.labels[index * self.batch_size: (index + 1) * self.batch_size])))\n",
    "\n",
    "        return batch_x, batch_y\n",
    "\n",
    "    def on_epoch_end(self):\n",
    "        if self.shuffle:\n",
    "            for i in range(len(self.data)):\n",
    "                ind_from, ind_to = randint(0, len(self.data) - 1), randint(0, len(self.data) - 1)\n",
    "                self.data[ind_from], self.data[ind_to] = self.data[ind_to], self.data[ind_from]\n",
    "                self.labels[ind_from], self.labels[ind_to] = self.labels[ind_to], self.labels[ind_from]"
   ]
  },
  {
   "cell_type": "markdown",
   "metadata": {},
   "source": [
    "## Training And Validating"
   ]
  },
  {
   "cell_type": "code",
   "execution_count": 4,
   "metadata": {
    "tags": []
   },
   "outputs": [],
   "source": [
    "# training\n",
    "def make_combine_loss(smooth=1e-6, gama=2): # Actually bin_cross_entropy + dice losses\n",
    "    def comb_loss(y_true, y_pred):\n",
    "        y_true, y_pred = tf.cast(y_true, dtype=tf.float32), tf.cast(y_pred, dtype=tf.float32)\n",
    "\n",
    "        nominator = 2 * tf.multiply(y_pred, y_true) + smooth\n",
    "        denominator = (y_pred ** gama) + (y_true ** gama) + smooth\n",
    "        dice_coef = tf.divide(nominator, denominator)\n",
    "\n",
    "        cross_ent_coef = 0.5 * (tf.multiply(y_true, tf.math.log(y_pred + smooth)) + tf.multiply(1 - y_true, tf.math.log(1 - y_pred + smooth)))\n",
    "\n",
    "        return tf.reduce_sum(1 - (cross_ent_coef + dice_coef))\n",
    "    return comb_loss\n",
    "\n",
    "combine_loss = make_combine_loss()\n",
    "\n",
    "data_gen = Data_train_generator(FILE_DIRS[\"dicom\"][:-VALIDATION_NUM], FILE_DIRS[\"converted\"][:-VALIDATION_NUM], BATCH_SIZE, IMG_SHAPE)\n",
    "val_gen = Data_train_generator(FILE_DIRS[\"dicom\"][-VALIDATION_NUM:], FILE_DIRS[\"converted\"][-VALIDATION_NUM:], BATCH_SIZE, IMG_SHAPE)\n",
    "\n",
    "model_checkpoint = ModelCheckpoint(\n",
    "    save_best_only=True,\n",
    "    save_weights_only=True,\n",
    "    monitor='val_output_4_loss',\n",
    "    mode='min',\n",
    "    filepath=os.path.join(RESULTS, 'saved_weights/{epoch}-weights_unetpp.hdf5')\n",
    ")\n",
    "\n",
    "from model import make_unet2p\n",
    "\n",
    "model_unet = make_unet2p((*IMG_SHAPE, 1), filters=[64, 128, 256, 512, 1024], deep_supervision=True)\n",
    "\n",
    "model_unet.compile(optimizer='Adam', loss={\n",
    "    'output_1': combine_loss,\n",
    "    'output_2': combine_loss,\n",
    "    'output_3': combine_loss,\n",
    "    'output_4': combine_loss\n",
    "}, loss_weights=[1.0, 1.0, 1.0, 1.0])\n",
    "\n",
    "if WEIGHTS2LOAD: model_unet.load_weights(WEIGHTS2LOAD)\n",
    "\n",
    "#history_unet = model_unet.fit(x=data_gen, epochs=1, validation_data=val_gen, callbacks=[model_checkpoint])\n",
    "\n",
    "#with open(os.path.join(RESULTS, 'model_history.json'), 'w') as f:\n",
    "#    json.dump({\"model\": history_unet}, f)"
   ]
  },
  {
   "cell_type": "code",
   "execution_count": 5,
   "metadata": {},
   "outputs": [
    {
     "name": "stderr",
     "output_type": "stream",
     "text": [
      "[ WARN:0@4.023] global loadsave.cpp:248 findDecoder imread_('e:/Projects/DataSet/patient102/2022-05-12 150118/IMG-0001-00001.png'): can't open/read file: check file path/integrity\n"
     ]
    },
    {
     "ename": "error",
     "evalue": "OpenCV(4.9.0) /io/opencv/modules/core/src/arithm.cpp:1726: error: (-215:Assertion failed) ! _src.empty() in function 'inRange'\n",
     "output_type": "error",
     "traceback": [
      "\u001b[0;31m---------------------------------------------------------------------------\u001b[0m",
      "\u001b[0;31merror\u001b[0m                                     Traceback (most recent call last)",
      "Cell \u001b[0;32mIn[5], line 5\u001b[0m\n\u001b[1;32m      2\u001b[0m TEST_IMG_PATH \u001b[38;5;241m=\u001b[39m FILE_DIRS[\u001b[38;5;124m\"\u001b[39m\u001b[38;5;124mdicom\u001b[39m\u001b[38;5;124m\"\u001b[39m][\u001b[38;5;241m10\u001b[39m]\n\u001b[1;32m      3\u001b[0m TEST_TRUE_IMG_PATH \u001b[38;5;241m=\u001b[39m FILE_DIRS[\u001b[38;5;124m\"\u001b[39m\u001b[38;5;124mconverted\u001b[39m\u001b[38;5;124m\"\u001b[39m][\u001b[38;5;241m10\u001b[39m]\n\u001b[0;32m----> 5\u001b[0m img \u001b[38;5;241m=\u001b[39m \u001b[43mcv2\u001b[49m\u001b[38;5;241;43m.\u001b[39;49m\u001b[43minRange\u001b[49m\u001b[43m(\u001b[49m\u001b[43mcv2\u001b[49m\u001b[38;5;241;43m.\u001b[39;49m\u001b[43mimread\u001b[49m\u001b[43m(\u001b[49m\u001b[43mTEST_TRUE_IMG_PATH\u001b[49m\u001b[43m)\u001b[49m\u001b[43m,\u001b[49m\u001b[43m \u001b[49m\u001b[43m(\u001b[49m\u001b[38;5;241;43m20\u001b[39;49m\u001b[43m,\u001b[49m\u001b[43m \u001b[49m\u001b[38;5;241;43m20\u001b[39;49m\u001b[43m,\u001b[49m\u001b[43m \u001b[49m\u001b[38;5;241;43m210\u001b[39;49m\u001b[43m)\u001b[49m\u001b[43m,\u001b[49m\u001b[43m \u001b[49m\u001b[43m(\u001b[49m\u001b[38;5;241;43m40\u001b[39;49m\u001b[43m,\u001b[49m\u001b[43m \u001b[49m\u001b[38;5;241;43m40\u001b[39;49m\u001b[43m,\u001b[49m\u001b[43m \u001b[49m\u001b[38;5;241;43m240\u001b[39;49m\u001b[43m)\u001b[49m\u001b[43m)\u001b[49m\n\u001b[1;32m      6\u001b[0m data \u001b[38;5;241m=\u001b[39m np\u001b[38;5;241m.\u001b[39marray(img, dtype\u001b[38;5;241m=\u001b[39m\u001b[38;5;124m\"\u001b[39m\u001b[38;5;124mfloat32\u001b[39m\u001b[38;5;124m\"\u001b[39m) \u001b[38;5;241m/\u001b[39m \u001b[38;5;241m255\u001b[39m\n\u001b[1;32m      8\u001b[0m side_pad \u001b[38;5;241m=\u001b[39m (\n\u001b[1;32m      9\u001b[0m     \u001b[38;5;28mint\u001b[39m((IMG_SHAPE[\u001b[38;5;241m0\u001b[39m] \u001b[38;5;241m-\u001b[39m data\u001b[38;5;241m.\u001b[39mshape[\u001b[38;5;241m0\u001b[39m]) \u001b[38;5;241m/\u001b[39m \u001b[38;5;241m2\u001b[39m),\n\u001b[1;32m     10\u001b[0m     \u001b[38;5;28mint\u001b[39m((IMG_SHAPE[\u001b[38;5;241m1\u001b[39m] \u001b[38;5;241m-\u001b[39m data\u001b[38;5;241m.\u001b[39mshape[\u001b[38;5;241m1\u001b[39m]) \u001b[38;5;241m/\u001b[39m \u001b[38;5;241m2\u001b[39m)\n\u001b[1;32m     11\u001b[0m )\n",
      "\u001b[0;31merror\u001b[0m: OpenCV(4.9.0) /io/opencv/modules/core/src/arithm.cpp:1726: error: (-215:Assertion failed) ! _src.empty() in function 'inRange'\n"
     ]
    }
   ],
   "source": [
    "# testing\n",
    "TEST_IMG_PATH = FILE_DIRS[\"dicom\"][10]\n",
    "TEST_TRUE_IMG_PATH = FILE_DIRS[\"converted\"][10]\n",
    "\n",
    "img = cv2.inRange(cv2.imread(TEST_TRUE_IMG_PATH), (20, 20, 210), (40, 40, 240))\n",
    "data = np.array(img, dtype=\"float32\") / 255\n",
    "\n",
    "side_pad = (\n",
    "    int((IMG_SHAPE[0] - data.shape[0]) / 2),\n",
    "    int((IMG_SHAPE[1] - data.shape[1]) / 2)\n",
    ")\n",
    "\n",
    "test_true_img = np.pad(data, (\n",
    "    (side_pad[0], side_pad[0]),\n",
    "    (side_pad[1], side_pad[1]),\n",
    "), 'constant', constant_values=0)\n",
    "\n",
    "dcm = pydicom.dcmread(TEST_IMG_PATH)\n",
    "data = dcm.pixel_array.astype(\"float32\") / 255\n",
    "\n",
    "data = np.pad(data, (\n",
    "    (side_pad[0], side_pad[0]),\n",
    "    (side_pad[1], side_pad[1]),\n",
    "), 'constant', constant_values=0)\n",
    "\n",
    "test_img = np.reshape(data, (1, *IMG_SHAPE, 1))\n",
    "\n",
    "res = model_unet.predict(test_img, batch_size=1)\n",
    "res = res[3]\n",
    "res = res.reshape(IMG_SHAPE)\n",
    "\n",
    "# Drawing Result\n",
    "\n",
    "fig, ax = plt.subplots(nrows=1, ncols=4)\n",
    "fig.set_figwidth(12)\n",
    "ax[3].set_title('mask')\n",
    "ax[1].set_title('prediction')\n",
    "\n",
    "sns.heatmap(res, ax=ax[0])\n",
    "sns.heatmap(np.where(res > 0.5, 1, 0), ax=ax[1])\n",
    "sns.heatmap(test_img, ax=ax[2])\n",
    "sns.heatmap(test_true_img, ax=ax[3])\n",
    "plt.show()"
   ]
  },
  {
   "cell_type": "code",
   "execution_count": 7,
   "metadata": {},
   "outputs": [
    {
     "name": "stdout",
     "output_type": "stream",
     "text": [
      "21 - vertebras\n"
     ]
    },
    {
     "data": {
      "text/plain": [
       "<matplotlib.image.AxesImage at 0x7f994447fcd0>"
      ]
     },
     "execution_count": 7,
     "metadata": {},
     "output_type": "execute_result"
    },
    {
     "data": {
      "image/png": "[encoded data removed]",
      "text/plain": [
       "<Figure size 640x480 with 1 Axes>"
      ]
     },
     "metadata": {},
     "output_type": "display_data"
    }
   ],
   "source": [
    "# point vertebras\n",
    "IMG_PATH = os.path.join(DATA_DIR, 'test/IMG-0001-00001.png')\n",
    "IMG_PATH_TRUE = os.path.join(DATA_DIR, 'test/IMG-0001-00001.png')\n",
    "\n",
    "img = cv2.inRange(cv2.imread(IMG_PATH), (20, 20, 210), (40, 40, 240))\n",
    "img_true = cv2.inRange(cv2.imread(IMG_PATH_TRUE), (20, 20, 210), (40, 40, 240))\n",
    "\n",
    "data = np.array(img, dtype=\"float32\") / 255\n",
    "data_true = np.array(img_true, dtype=\"float32\") / 255\n",
    "\n",
    "# side_pad = (\n",
    "#     int((IMG_SHAPE[0] - data.shape[0]) / 2),\n",
    "#     int((IMG_SHAPE[1] - data.shape[1]) / 2)\n",
    "# )\n",
    "\n",
    "# data = np.pad(data, (\n",
    "#     (side_pad[0], side_pad[0]),\n",
    "#     (side_pad[1], side_pad[1]),\n",
    "# ), 'constant', constant_values=0)\n",
    "\n",
    "from func import search_for_borders, get_edgefunc_coef, get_vertebras_corners, get_ratio, approximateYbezie_lcr, adjast_vertebras, MSE\n",
    "\n",
    "n = 10\n",
    "threshold = 0.7 # gap < x < vertebra\n",
    "\n",
    "border_coords = search_for_borders(data)\n",
    "border_coords_true = search_for_borders(data_true)\n",
    "\n",
    "edge_coef = get_edgefunc_coef(data, border_coords, n)\n",
    "edge_coef_true = get_edgefunc_coef(data_true, border_coords_true, n)\n",
    "\n",
    "y, y_l, y_r = approximateYbezie_lcr(border_coords, edge_coef, n)\n",
    "y_true, y_l_true, y_r_true = approximateYbezie_lcr(border_coords_true, edge_coef_true, n)\n",
    "\n",
    "vertebras_corners = get_vertebras_corners(data, border_coords, y, y_l, y_r, threshold)\n",
    "vertebras_corners_true = get_vertebras_corners(data, border_coords_true, y_true, y_l_true, y_r_true, threshold)\n",
    "\n",
    "#vertebras_corners = adjast_vertebras(border_coords, vertebras_corners, y, y_l, y_r)\n",
    "#vertebras_corners_true = adjast_vertebras(border_coords_true, vertebras_corners_true, y_true, y_l_true, y_r_true) \n",
    "# It can't be used due to a huge size of S1 part\n",
    "\n",
    "error = MSE(vertebras_corners, vertebras_corners_true)\n",
    "\n",
    "vertebras_corners = [[[vertebras_corners[i], vertebras_corners[i + 1]], [vertebras_corners[i + 2], vertebras_corners[i + 3]]] for i in range(0, len(vertebras_corners), 4)]\n",
    "\n",
    "print(len(vertebras_corners), '- vertebras')\n",
    "for i in vertebras_corners:\n",
    "    data = cv2.circle(data, (int(i[0][0][1]), int(i[0][0][0])), 5, 255, 5)\n",
    "    data = cv2.circle(data, (int(i[0][1][1]), int(i[0][1][0])), 5, 255, 5)\n",
    "    data = cv2.circle(data, (int(i[1][0][1]), int(i[1][0][0])), 5, 255, 5)\n",
    "    data = cv2.circle(data, (int(i[1][1][1]), int(i[1][1][0])), 5, 255, 5)\n",
    "\n",
    "for i in range(border_coords[0][1], border_coords[1][1] + 1):\n",
    "    data[i, int(y[i - border_coords[0][1]])] = 200\n",
    "    data[i, int(y_l[i - border_coords[0][1]])] = 200\n",
    "    data[i, int(y_r[i - border_coords[0][1]])] = 200\n",
    "\n",
    "data[data <= 1] *= 150\n",
    "\n",
    "cv2.imwrite(os.path.join(DATA_DIR, 'test/SD_ver.png'), data)\n",
    "\n",
    "plt.imshow(data)"
   ]
  }
 ],
 "metadata": {
  "kernelspec": {
   "display_name": "Python 3.10.11 64-bit ('venv')",
   "metadata": {
    "interpreter": {
     "hash": "380bfe0694a67091c1b1fc5ff54d9e5aa4d3b44503f6eeeca4918ab48e068b14"
    }
   },
   "name": "python3"
  },
  "language_info": {
   "codemirror_mode": {
    "name": "ipython",
    "version": 3
   },
   "file_extension": ".py",
   "mimetype": "text/x-python",
   "name": "python",
   "nbconvert_exporter": "python",
   "pygments_lexer": "ipython3",
   "version": "3.11.6"
  },
  "orig_nbformat": 2
 },
 "nbformat": 4,
 "nbformat_minor": 2
}
