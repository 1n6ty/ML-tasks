{
 "cells": [
  {
   "cell_type": "markdown",
   "metadata": {},
   "source": [
    "# Nowcasting"
   ]
  },
  {
   "cell_type": "code",
   "execution_count": null,
   "metadata": {},
   "outputs": [],
   "source": [
    "# Import\n",
    "import h5py\n",
    "import numpy as np\n",
    "import os\n",
    "\n",
    "import tensorflow as tf\n",
    "import keras\n",
    "from keras.callbacks import ModelCheckpoint\n",
    "from keras.utils import Sequence"
   ]
  },
  {
   "cell_type": "code",
   "execution_count": null,
   "metadata": {},
   "outputs": [],
   "source": [
    "# Global Variables\n",
    "DATA_DIR = os.path.abspath('../Data')\n",
    "TRAIN_DIR = os.path.join(DATA_DIR, 'train')\n",
    "RESULT_DIR = os.path.abspath('../Results')\n",
    "TRAIN_FILES_LIST = [os.path.join(TRAIN_DIR, i) for i in os.listdir(TRAIN_DIR)]\n",
    "TEST_FILE = os.path.join(DATA_DIR, '2022-test-public.hdf5')"
   ]
  },
  {
   "cell_type": "markdown",
   "metadata": {},
   "source": [
    "## Data Generator"
   ]
  },
  {
   "cell_type": "code",
   "execution_count": null,
   "metadata": {},
   "outputs": [],
   "source": [
    "class RadarDataset(Sequence):\n",
    "    def __init__(self, list_of_files, in_seq_len=4, out_seq_len=12, batch_size = 4, mode='overlap', with_time=False):\n",
    "        self.in_seq_len = in_seq_len\n",
    "        self.out_seq_len = out_seq_len\n",
    "        self.seq_len = in_seq_len + out_seq_len\n",
    "        self.with_time = with_time\n",
    "        self.batch_size = batch_size\n",
    "        self.__prepare_timestamps_mapping(list_of_files)\n",
    "        self.__prepare_sequences(mode)\n",
    "\n",
    "    def __len__(self):\n",
    "        return int(np.ceil(len(self.sequences) / self.batch_size))\n",
    "\n",
    "    def __getitem__(self, index):\n",
    "        intensity = np.empty((self.batch_size, self.seq_len, 256, 256, 1))\n",
    "        radial_velocity = np.empty((self.batch_size, self.seq_len, 256, 256, 10))\n",
    "\n",
    "        for seq_id, seq in enumerate(self.sequences[index * self.batch_size: (index + 1) * self.batch_size]):\n",
    "            for timestamp_id, timestamp in enumerate(seq):\n",
    "                with h5py.File(self.timestamp_to_file[timestamp]) as d:\n",
    "                    intensity[seq_id][timestamp_id] = np.pad(np.expand_dims(d[timestamp][\"intensity\"][:], axis=-1), ((2, 2), (2, 2), (0, 0)), 'constant', constant_values=[-2e6])\n",
    "                    radial_velocity[seq_id][timestamp_id] = np.pad(d[timestamp][\"radial_velocity\"][:].reshape((252, 252, 10)), ((2, 2), (2, 2), (0, 0)), 'constant', constant_values=[-2e6])\n",
    "\n",
    "        intensity[intensity == -1e6] = -1\n",
    "\n",
    "        targets = np.copy(intensity[:, self.in_seq_len:])\n",
    "\n",
    "        intensity[intensity == -2e6] = 0\n",
    "\n",
    "        radial_velocity[radial_velocity == -1e6] = 0\n",
    "        radial_velocity[radial_velocity == -2e6] = 0\n",
    "\n",
    "        intensity = intensity / 30\n",
    "        intensity[intensity < 0] = -1\n",
    "        \n",
    "        radial_velocity = (radial_velocity + 35) / 35 - 1\n",
    "\n",
    "        d = np.append(intensity, radial_velocity, axis=-1)\n",
    "        inputs = d[:, :self.in_seq_len]\n",
    "\n",
    "        if self.with_time:\n",
    "            return (inputs, self.sequences[index][-1]), targets\n",
    "        else:\n",
    "            return inputs, targets\n",
    "\n",
    "    def __prepare_timestamps_mapping(self, list_of_files):\n",
    "        self.timestamp_to_file = {}\n",
    "        for filename in list_of_files:\n",
    "            with h5py.File(filename) as d:\n",
    "                self.timestamp_to_file = {\n",
    "                    **self.timestamp_to_file,\n",
    "                    **dict(map(lambda x: (x, filename), d.keys()))\n",
    "                }\n",
    "\n",
    "    def __prepare_sequences(self, mode):\n",
    "        timestamps = np.unique(sorted(self.timestamp_to_file.keys()))\n",
    "        if mode == 'sequentially':\n",
    "            self.sequences = [\n",
    "                timestamps[index * self.seq_len: (index + 1) * self.seq_len]\n",
    "                for index in range(len(timestamps) // self.seq_len)\n",
    "            ]\n",
    "        elif mode == 'overlap':\n",
    "            self.sequences = [\n",
    "                timestamps[index: index + self.seq_len]\n",
    "                for index in range(len(timestamps) - self.seq_len + 1)\n",
    "            ]\n",
    "        else:\n",
    "            raise Exception(f'Unknown mode {mode}')\n",
    "        self.sequences = list(filter(\n",
    "            lambda x: int(x[-1]) - int(x[0]) == (self.seq_len - 1) * 600,\n",
    "            self.sequences\n",
    "        ))"
   ]
  },
  {
   "cell_type": "markdown",
   "metadata": {},
   "source": [
    "## Training"
   ]
  },
  {
   "cell_type": "code",
   "execution_count": null,
   "metadata": {},
   "outputs": [],
   "source": [
    "# Making Metric Function\n",
    "def make_RMSE_metric():\n",
    "    def RMSE_metric(y_true, y_pred):\n",
    "        a = tf.boolean_mask(y_true, y_true != -2e6)\n",
    "        b = tf.boolean_mask(y_pred, y_true != -2e6)\n",
    "        return tf.sqrt(tf.reduce_mean(tf.square(a - b)))\n",
    "\n",
    "    return RMSE_metric\n",
    "\n",
    "RMSE = make_RMSE_metric()\n",
    "\n",
    "# Data Generator\n",
    "train_gen = RadarDataset([TRAIN_FILES_LIST[0]], in_seq_len=4, out_seq_len=12, batch_size=1)\n",
    "val_gen = RadarDataset([TEST_FILE], in_seq_len=4, out_seq_len=12, batch_size=1)\n",
    "\n",
    "# Model Callbacks\n",
    "model_checkpoint = ModelCheckpoint(\n",
    "    save_best_only=True,\n",
    "    save_weights_only=True,\n",
    "    monitor='RMSE_metric',\n",
    "    mode='min',\n",
    "    filepath=os.path.join(RESULT_DIR, 'saved_weights/{epoch}-weights.hdf5')\n",
    ")\n",
    "\n",
    "# Model\n",
    "from model import make_unet_conv_LSTM_v2\n",
    "conv_LSTM = make_unet_conv_LSTM_v2((4, 256, 256, 11), 32, (3, 3), 12)\n",
    "\n",
    "conv_LSTM.compile(loss=RMSE, metrics=[RMSE], optimizer='adam')\n",
    "\n",
    "# Training Loop\n",
    "conv_LSTM.fit(train_gen, validation_data=val_gen, batch_size=1, validation_batch_size=1, epochs=1, callbacks=[model_checkpoint])"
   ]
  }
 ],
 "metadata": {
  "kernelspec": {
   "display_name": "Python 3",
   "language": "python",
   "name": "python3"
  },
  "language_info": {
   "codemirror_mode": {
    "name": "ipython",
    "version": 3
   },
   "file_extension": ".py",
   "mimetype": "text/x-python",
   "name": "python",
   "nbconvert_exporter": "python",
   "pygments_lexer": "ipython3",
   "version": "3.10.1"
  }
 },
 "nbformat": 4,
 "nbformat_minor": 2
}
